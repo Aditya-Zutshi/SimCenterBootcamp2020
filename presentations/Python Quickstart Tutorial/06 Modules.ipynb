{
 "cells": [
  {
   "cell_type": "markdown",
   "metadata": {},
   "source": [
    "# A Python Quick Start Tutorial - Part 6\n",
    "\n",
    "## by Peter Mackenzie-Helnwein\n",
    "University of Washington, Seattle, WA\n",
    "\n",
    "pmackenz@uw.edu          \n",
    "https://www.ce.washington.edu/facultyfinder/peter-mackenzie-helnwein"
   ]
  },
  {
   "cell_type": "markdown",
   "metadata": {},
   "source": [
    "# Modules\n",
    "\n",
    "Python comes with a huge range of extension libraries (modules: [module index](https://docs.python.org/3/py-modindex.html)), allowing us to dynamically extend its abilities.  Moreover, it is easy to create your own modules and share them with the python community.  We will only discuss the most basic version of creating and using your own modules.  Read [the respective chapter in the manual](https://docs.python.org/3/tutorial/modules.html) for a more detailed discussion.\n",
    "\n"
   ]
  },
  {
   "cell_type": "markdown",
   "metadata": {},
   "source": [
    "We already imported modules, namely numpy and matplotlib.  The command to use is **import**.  There are, however, many ways of importing modules or parts of modules:"
   ]
  },
  {
   "cell_type": "code",
   "execution_count": 2,
   "metadata": {},
   "outputs": [
    {
     "data": {
      "text/plain": [
       "0.8660254037844386"
      ]
     },
     "execution_count": 2,
     "metadata": {},
     "output_type": "execute_result"
    }
   ],
   "source": [
    "import math\n",
    "\n",
    "math.sin(math.pi/3)"
   ]
  },
  {
   "cell_type": "code",
   "execution_count": 4,
   "metadata": {},
   "outputs": [
    {
     "data": {
      "text/plain": [
       "0.5000000000000001"
      ]
     },
     "execution_count": 4,
     "metadata": {},
     "output_type": "execute_result"
    }
   ],
   "source": [
    "from math import pi, cos\n",
    "\n",
    "cos(pi/3)"
   ]
  },
  {
   "cell_type": "markdown",
   "metadata": {},
   "source": [
    "The second usually form makes the code more readable.  However, modules may contain functions with identical names, e.g., the real analysis functions are containes in **math** while complex versions are contained in **cmath**.  In cases where both versions are needed, only the long option yields the necessary control."
   ]
  },
  {
   "cell_type": "code",
   "execution_count": 12,
   "metadata": {},
   "outputs": [
    {
     "name": "stdout",
     "output_type": "stream",
     "text": [
      "0.8660254037844386 (0.8660254037844386+0j)\n",
      "cmath.exp(): 1.2493670505239751j\n",
      "math.exp():  requires a real argument\n"
     ]
    }
   ],
   "source": [
    "import cmath\n",
    "\n",
    "print(math.sin(pi/3), cmath.sin(pi/3))\n",
    "print(\"cmath.exp():\",cmath.sin(1.j*pi/3))\n",
    "\n",
    "try:\n",
    "    print(math.exp(1.j*pi/3))\n",
    "except:\n",
    "    print(\"math.exp():  requires a real argument\")"
   ]
  },
  {
   "cell_type": "markdown",
   "metadata": {},
   "source": [
    "Another useful feature of **import** is to assign aliases to a module.  This can be used to shorten the reference, as we did with **numpy**:"
   ]
  },
  {
   "cell_type": "code",
   "execution_count": 14,
   "metadata": {},
   "outputs": [
    {
     "data": {
      "text/plain": [
       "array([0.09983342, 0.19866933, 0.29552021])"
      ]
     },
     "execution_count": 14,
     "metadata": {},
     "output_type": "execute_result"
    }
   ],
   "source": [
    "import numpy as np\n",
    "\n",
    "np.sin([0.1, 0.2, 0.3])"
   ]
  },
  {
   "cell_type": "markdown",
   "metadata": {},
   "source": [
    "Yet another use for aliasing is to easily switch between modules that perform similar tasks like, e.g., interface libraries to various database systems (the sample code is not designed to run, just to illustrate an easy switch between libraries without changing the rest of the code):"
   ]
  },
  {
   "cell_type": "code",
   "execution_count": 16,
   "metadata": {},
   "outputs": [
    {
     "ename": "TypeError",
     "evalue": "Required argument 'database' (pos 1) not found",
     "output_type": "error",
     "traceback": [
      "\u001b[0;31m---------------------------------------------------------------------------\u001b[0m",
      "\u001b[0;31mTypeError\u001b[0m                                 Traceback (most recent call last)",
      "\u001b[0;32m<ipython-input-16-d33c22879b14>\u001b[0m in \u001b[0;36m<module>\u001b[0;34m\u001b[0m\n\u001b[1;32m      3\u001b[0m \u001b[0;31m# import postgressql as DBI\u001b[0m\u001b[0;34m\u001b[0m\u001b[0;34m\u001b[0m\u001b[0;34m\u001b[0m\u001b[0m\n\u001b[1;32m      4\u001b[0m \u001b[0;34m\u001b[0m\u001b[0m\n\u001b[0;32m----> 5\u001b[0;31m \u001b[0mdb\u001b[0m \u001b[0;34m=\u001b[0m \u001b[0mDBI\u001b[0m\u001b[0;34m.\u001b[0m\u001b[0mconnect\u001b[0m\u001b[0;34m(\u001b[0m\u001b[0;34m)\u001b[0m\u001b[0;34m\u001b[0m\u001b[0;34m\u001b[0m\u001b[0m\n\u001b[0m\u001b[1;32m      6\u001b[0m \u001b[0mcu\u001b[0m \u001b[0;34m=\u001b[0m \u001b[0mdb\u001b[0m\u001b[0;34m.\u001b[0m\u001b[0mcursor\u001b[0m\u001b[0;34m(\u001b[0m\u001b[0;34m)\u001b[0m\u001b[0;34m\u001b[0m\u001b[0;34m\u001b[0m\u001b[0m\n\u001b[1;32m      7\u001b[0m \u001b[0;34m\u001b[0m\u001b[0m\n",
      "\u001b[0;31mTypeError\u001b[0m: Required argument 'database' (pos 1) not found"
     ]
    }
   ],
   "source": [
    "import sqlite3 as DBI\n",
    "# import mysqldb as DBI\n",
    "# import postgressql as DBI\n",
    "\n",
    "db = DBI.connect()\n",
    "cu = db.cursor()\n",
    "\n",
    "db.commit()"
   ]
  },
  {
   "cell_type": "markdown",
   "metadata": {},
   "source": [
    "## Building and using your simple modules\n",
    "\n",
    "The easiest form is to put one module into a single file.  This is the only way we will discuss in this tutorial."
   ]
  },
  {
   "cell_type": "markdown",
   "metadata": {},
   "source": [
    "The common problem with code is that what once started as something quick and simple grows over time into some very long files with hundreds of lines.  This makes code hard to read and maintain.  The solution is to change the coding style as follows.\n",
    "1. put every class in a single file named the classname.py\n",
    "2. files that use that class need to import that file as external library\n",
    "~~~\n",
    "from classname import *\n",
    "\n",
    "...\n",
    "\n",
    "a = classname(). # the constructor is called\n",
    "~~~\n",
    "This imports the class definition into the current namespace.  In th erare case that two files contain different implementations of the same class, we need to use separate name spaces:\n",
    "~~~\n",
    "import file1 as f1\n",
    "import file2 as f2\n",
    "\n",
    "...\n",
    "\n",
    "a = f1.classname()\n",
    "b = f2.classname()\n",
    "~~~\n",
    "<hr>\n",
    "\n",
    "Note the different styles:\n",
    "1. load everything into the current name space\n",
    "~~~\n",
    "from filename import *\n",
    "\n",
    "a = classname()\n",
    "~~~\n",
    "2. load into the default name space\n",
    "~~~\n",
    "import filename\n",
    "\n",
    "...\n",
    "\n",
    "a = filename.classname()\n",
    "~~~\n",
    "3. load into private name space using an alias (short form)\n",
    "~~~\n",
    "import some_very_long_module_name as mod\n",
    "\n",
    "...\n",
    "\n",
    "a = mod.classname()\n",
    "~~~\n",
    "We did use that option when importing matplotlib.pyplot as plt ;)"
   ]
  },
  {
   "cell_type": "markdown",
   "metadata": {},
   "source": [
    "## Writing demo and simple selftests for modules"
   ]
  },
  {
   "cell_type": "markdown",
   "metadata": {},
   "source": [
    "When putting code into an external file, we usually indent to import that file into some other code file or jupyter notebook.  However, we could also directly invoke that file directly from the commandline as (MacOS and Linux)\n",
    "~~~\n",
    "$ python3 my_class_file.py\n",
    "~~~\n",
    "or on Windows\n",
    "~~~\n",
    ">> python3.exe my_class_file.py\n",
    "~~~\n",
    "We can detect whether or not that file was executated directly or imported and, based on that information, run a demo or self test.  The mechanism is simple: upon loading a code file, python sets a series of private variables.  The one most useful here is __name__.  If the file is loaded as a module, __name__ is set to the filename of that python file.  If executed directly, __name__ is set to '__main__'.  We can exploit this by writing the file like this:"
   ]
  },
  {
   "cell_type": "code",
   "execution_count": null,
   "metadata": {},
   "outputs": [],
   "source": [
    "# this is my private_module.py file\n",
    "# it contains the definition for MyClass and a demo function.\n",
    "\n",
    "# all the module loading here\n",
    "import ....\n",
    "\n",
    "# now the class definition\n",
    "class MyClass(object):\n",
    "    def __init__(self):\n",
    "        pass\n",
    "    \n",
    "    ...\n",
    "    \n",
    "# now define a test or demo routine\n",
    "# this code shall be ignored by the importing file\n",
    "def main():\n",
    "    a = MyClass()\n",
    "    # some demo ops ...\n",
    "    \n",
    "# and now the actual execution ...\n",
    "if __name__ == '__main__':\n",
    "    main()"
   ]
  },
  {
   "cell_type": "markdown",
   "metadata": {},
   "source": [
    "main() will be executed if and only if __name__ == '__main__', i.e., if this file is being executed directly by the python interpreter."
   ]
  },
  {
   "cell_type": "code",
   "execution_count": null,
   "metadata": {},
   "outputs": [],
   "source": []
  }
 ],
 "metadata": {
  "kernelspec": {
   "display_name": "Python 3",
   "language": "python",
   "name": "python3"
  },
  "language_info": {
   "codemirror_mode": {
    "name": "ipython",
    "version": 3
   },
   "file_extension": ".py",
   "mimetype": "text/x-python",
   "name": "python",
   "nbconvert_exporter": "python",
   "pygments_lexer": "ipython3",
   "version": "3.7.4"
  }
 },
 "nbformat": 4,
 "nbformat_minor": 4
}

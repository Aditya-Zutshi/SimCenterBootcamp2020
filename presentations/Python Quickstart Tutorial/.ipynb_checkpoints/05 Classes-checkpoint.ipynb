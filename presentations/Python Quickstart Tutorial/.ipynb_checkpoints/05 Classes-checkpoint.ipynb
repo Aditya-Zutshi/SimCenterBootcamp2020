{
 "cells": [
  {
   "cell_type": "markdown",
   "metadata": {},
   "source": [
    "# A Python Quick Start Tutorial\n",
    "## by Peter Mackenzie-Helnwein\n",
    "University of Washington, Seattle, WA\n",
    "\n",
    "pmackenz@uw.edu          \n",
    "https://www.ce.washington.edu/facultyfinder/peter-mackenzie-helnwein"
   ]
  },
  {
   "cell_type": "markdown",
   "metadata": {},
   "source": [
    "# Basic Concepts"
   ]
  },
  {
   "cell_type": "markdown",
   "metadata": {},
   "source": [
    "This notebook is designed as a quick-start guide into python.  This tutorial assumes at least some familiarity with other programming languages such as Java or C/C++.  MATLAB and FORTRAN users are advised to pay special attention to indexing since python uses C-style indexing, i.e., $0 \\dots (n-1)$, while MATLAB and FORTRAN use $1 \\dots n$. It is by no means a comprehensive guide to python but rather highlights similarities and differences between these languages. \n",
    "\n",
    "For a comprehensive introduction to python, I highly recommend reading [The Python Tutorial](https://docs.python.org/3/tutorial/)"
   ]
  },
  {
   "cell_type": "markdown",
   "metadata": {},
   "source": [
    "## First step: Hello, World!"
   ]
  },
  {
   "cell_type": "code",
   "execution_count": 1,
   "metadata": {},
   "outputs": [
    {
     "name": "stdout",
     "output_type": "stream",
     "text": [
      "Hello, World!\n"
     ]
    }
   ],
   "source": [
    "print(\"Hello, World!\")"
   ]
  },
  {
   "cell_type": "markdown",
   "metadata": {},
   "source": [
    "Now that was easy!  What to look out for?  \n",
    "1. Commands are functions, i.e., argument are given in parenthesis.  No arguments require empty parentheses: print()\n",
    "2. strings are enclosed in quotes.  Python accepts single and double quotes, so \"Hello, World!\" and 'Hello, World!' are OK."
   ]
  },
  {
   "cell_type": "markdown",
   "metadata": {},
   "source": [
    "## Creating Variables - no need for a fancy definition :)"
   ]
  },
  {
   "cell_type": "markdown",
   "metadata": {},
   "source": [
    "Variable definition happens on the fly.  The type is detected by the value given."
   ]
  },
  {
   "cell_type": "markdown",
   "metadata": {},
   "source": [
    "Let's do a simple example computing th ecircumference $cu=2 r \\pi$ or a circle:"
   ]
  },
  {
   "cell_type": "code",
   "execution_count": 2,
   "metadata": {},
   "outputs": [],
   "source": [
    "pi=3.141\n",
    "R=10.5\n",
    "\n",
    "cu = 2*R*pi"
   ]
  },
  {
   "cell_type": "markdown",
   "metadata": {},
   "source": [
    "To display the result, just ask for the variable (not a good programming style!)"
   ]
  },
  {
   "cell_type": "code",
   "execution_count": 3,
   "metadata": {},
   "outputs": [
    {
     "data": {
      "text/plain": [
       "65.961"
      ]
     },
     "execution_count": 3,
     "metadata": {},
     "output_type": "execute_result"
    }
   ],
   "source": [
    "cu"
   ]
  },
  {
   "cell_type": "markdown",
   "metadata": {},
   "source": [
    "The clean version of displaying anything from within a program is the **print** command"
   ]
  },
  {
   "cell_type": "code",
   "execution_count": 4,
   "metadata": {},
   "outputs": [
    {
     "name": "stdout",
     "output_type": "stream",
     "text": [
      "65.961\n"
     ]
    }
   ],
   "source": [
    "print(cu)"
   ]
  },
  {
   "cell_type": "markdown",
   "metadata": {},
   "source": [
    "Some nicer formating using a template string with placeholders {}"
   ]
  },
  {
   "cell_type": "code",
   "execution_count": 5,
   "metadata": {},
   "outputs": [
    {
     "name": "stdout",
     "output_type": "stream",
     "text": [
      "2*10.5*pi = 65.961\n"
     ]
    }
   ],
   "source": [
    "print(\"2*{}*pi = {}\".format(R,cu))"
   ]
  },
  {
   "cell_type": "markdown",
   "metadata": {},
   "source": [
    "**Did you notice: NO SEMICOLON !** (as in MATLAB, C, C++)"
   ]
  },
  {
   "cell_type": "markdown",
   "metadata": {},
   "source": [
    "## Structure by indentation"
   ]
  },
  {
   "cell_type": "markdown",
   "metadata": {},
   "source": [
    "Let's define a function named factor().  This function shall take an integer argument, n, and return n!"
   ]
  },
  {
   "cell_type": "code",
   "execution_count": 6,
   "metadata": {},
   "outputs": [],
   "source": [
    "def factor(n):\n",
    "    if n>1:\n",
    "        # we do a recursion using n! = n*(n-1)!\n",
    "        ans = n*factor(n-1)\n",
    "    else:\n",
    "        # this is our termination condition to stop the recursion\n",
    "        ans = 1\n",
    "    return ans"
   ]
  },
  {
   "cell_type": "markdown",
   "metadata": {},
   "source": [
    "1. Lines with the same amount of leading white space (indentation) belong to one group.  \n",
    "   1. Unlike C/C++, there is no need for { ... }.  In fact, the braces would be a syntax error.\n",
    "   2. Unlike MATLAB or FORTRAN, there is no need for an **end** statement.  Returning to the previous alignment ends a block of code.\n",
    "\n",
    "2. Moreover, the same concept applies to conditions: the keyword lines containing if and else require a colon (:) while the content gets another indentation.  \n",
    "\n",
    "3. Empty lines are ignored, so is everything after the #."
   ]
  },
  {
   "cell_type": "markdown",
   "metadata": {},
   "source": [
    "Here is how to use it to compute 5!"
   ]
  },
  {
   "cell_type": "code",
   "execution_count": 7,
   "metadata": {},
   "outputs": [
    {
     "data": {
      "text/plain": [
       "120"
      ]
     },
     "execution_count": 7,
     "metadata": {},
     "output_type": "execute_result"
    }
   ],
   "source": [
    "factor(5)"
   ]
  },
  {
   "cell_type": "markdown",
   "metadata": {},
   "source": [
    "Note that the **def** commend defined the function but only the above statement executed it.  This is a common beginner's mistake to assume that a definition would execute."
   ]
  },
  {
   "cell_type": "markdown",
   "metadata": {},
   "source": [
    "## Basic Data Types"
   ]
  },
  {
   "cell_type": "code",
   "execution_count": 8,
   "metadata": {},
   "outputs": [],
   "source": [
    "# integers\n",
    "a=3"
   ]
  },
  {
   "cell_type": "code",
   "execution_count": 9,
   "metadata": {},
   "outputs": [],
   "source": [
    "# floats\n",
    "b=1.2345"
   ]
  },
  {
   "cell_type": "code",
   "execution_count": 10,
   "metadata": {},
   "outputs": [],
   "source": [
    "# lists\n",
    "c=[1,2,3,4]"
   ]
  },
  {
   "cell_type": "code",
   "execution_count": 11,
   "metadata": {},
   "outputs": [],
   "source": [
    "# tuples\n",
    "d=(1,2,3,4)"
   ]
  },
  {
   "cell_type": "code",
   "execution_count": 12,
   "metadata": {},
   "outputs": [],
   "source": [
    "# strings\n",
    "s=\"Hello, World!\"\n",
    "t='Hello, World!'  # also correct!"
   ]
  },
  {
   "cell_type": "code",
   "execution_count": 13,
   "metadata": {},
   "outputs": [],
   "source": [
    "# dictionaries\n",
    "cross_section={'area':1.2, 'moment_of_inertia':3.45, 'c_top':3.2, 'c_bottom':4.1}"
   ]
  },
  {
   "cell_type": "markdown",
   "metadata": {},
   "source": [
    "How to use those ..."
   ]
  },
  {
   "cell_type": "code",
   "execution_count": 14,
   "metadata": {},
   "outputs": [
    {
     "name": "stdout",
     "output_type": "stream",
     "text": [
      "[1, 2, 3, 4]\n"
     ]
    }
   ],
   "source": [
    "print(c)"
   ]
  },
  {
   "cell_type": "code",
   "execution_count": 15,
   "metadata": {},
   "outputs": [
    {
     "data": {
      "text/plain": [
       "12"
      ]
     },
     "execution_count": 15,
     "metadata": {},
     "output_type": "execute_result"
    }
   ],
   "source": [
    "a*c[3]   # note: indexing is identical to C and C++ indexing"
   ]
  },
  {
   "cell_type": "code",
   "execution_count": 16,
   "metadata": {},
   "outputs": [
    {
     "name": "stdout",
     "output_type": "stream",
     "text": [
      "{'area': 1.2, 'moment_of_inertia': 3.45, 'c_top': 3.2, 'c_bottom': 4.1}\n"
     ]
    }
   ],
   "source": [
    "print(cross_section)"
   ]
  },
  {
   "cell_type": "code",
   "execution_count": 17,
   "metadata": {},
   "outputs": [
    {
     "name": "stdout",
     "output_type": "stream",
     "text": [
      "dict_keys(['area', 'moment_of_inertia', 'c_top', 'c_bottom'])\n"
     ]
    }
   ],
   "source": [
    "print(cross_section.keys())"
   ]
  },
  {
   "cell_type": "code",
   "execution_count": 18,
   "metadata": {},
   "outputs": [
    {
     "name": "stdout",
     "output_type": "stream",
     "text": [
      "1.2\n"
     ]
    }
   ],
   "source": [
    "print(cross_section['area'])"
   ]
  },
  {
   "cell_type": "code",
   "execution_count": 19,
   "metadata": {},
   "outputs": [
    {
     "name": "stdout",
     "output_type": "stream",
     "text": [
      "stresses:  top =       30.304 and bottom =       56.225\n"
     ]
    }
   ],
   "source": [
    "force = 50.0\n",
    "moment = 12.25\n",
    "\n",
    "stress_top    = force/cross_section['area'] - moment*cross_section['c_top']/cross_section['moment_of_inertia']\n",
    "stress_bottom = force/cross_section['area'] + moment*cross_section['c_bottom']/cross_section['moment_of_inertia']\n",
    "\n",
    "print(\"stresses:  top = {:12.3f} and bottom = {:12.3f}\".format(stress_top,stress_bottom))"
   ]
  },
  {
   "cell_type": "markdown",
   "metadata": {},
   "source": [
    "### The traps ..."
   ]
  },
  {
   "cell_type": "markdown",
   "metadata": {},
   "source": [
    "Start by making a copy of the list, c, and naming it new:"
   ]
  },
  {
   "cell_type": "code",
   "execution_count": 20,
   "metadata": {},
   "outputs": [
    {
     "name": "stdout",
     "output_type": "stream",
     "text": [
      "[1, 2, 3, 4]\n",
      "[1, 2, 3, 4]\n"
     ]
    }
   ],
   "source": [
    "new = c\n",
    "print(c)\n",
    "print(new)"
   ]
  },
  {
   "cell_type": "markdown",
   "metadata": {},
   "source": [
    "Next, let's change the second entry in the list from 2 to 99:"
   ]
  },
  {
   "cell_type": "code",
   "execution_count": 21,
   "metadata": {},
   "outputs": [
    {
     "name": "stdout",
     "output_type": "stream",
     "text": [
      "[1, 99, 3, 4]\n"
     ]
    }
   ],
   "source": [
    "new[1] = 99\n",
    "print(new)"
   ]
  },
  {
   "cell_type": "markdown",
   "metadata": {},
   "source": [
    "We successfully changed new, but now look again at the original source list, c:"
   ]
  },
  {
   "cell_type": "code",
   "execution_count": 22,
   "metadata": {},
   "outputs": [
    {
     "name": "stdout",
     "output_type": "stream",
     "text": [
      "[1, 99, 3, 4]\n"
     ]
    }
   ],
   "source": [
    "print(c)"
   ]
  },
  {
   "cell_type": "markdown",
   "metadata": {},
   "source": [
    "This list was changed as well even though we did not access the list c, or did we?  The issue is that python variables actually are pointers (!).  The copy operation new = c copied th epointer to the list c to a pointer new, i.e., both are pointing to the same data.  Changing data for one means also changing data for the other."
   ]
  },
  {
   "cell_type": "markdown",
   "metadata": {},
   "source": [
    "The solution to this problem is to use the copy() method to generate a copy of the data from inside the list:"
   ]
  },
  {
   "cell_type": "code",
   "execution_count": 23,
   "metadata": {},
   "outputs": [
    {
     "name": "stdout",
     "output_type": "stream",
     "text": [
      "[1, 2, 3, 4]\n",
      "[1, 99, 3, 4]\n"
     ]
    }
   ],
   "source": [
    "c=[1,2,3,4]\n",
    "new=c.copy()\n",
    "new[1]=99\n",
    "print(c)\n",
    "print(new)"
   ]
  },
  {
   "cell_type": "markdown",
   "metadata": {},
   "source": [
    "When to use copy() and when not to use it?  As a rule of thumb, don't use copy() unless you have an important reason to duplicate data!  I rarely need to."
   ]
  },
  {
   "cell_type": "markdown",
   "metadata": {},
   "source": [
    "### list versus tuple"
   ]
  },
  {
   "cell_type": "code",
   "execution_count": 24,
   "metadata": {},
   "outputs": [
    {
     "name": "stdout",
     "output_type": "stream",
     "text": [
      "[1, 2, 3, 4]\n",
      "(1, 2, 3, 4)\n"
     ]
    }
   ],
   "source": [
    "print(c)\n",
    "print(d)"
   ]
  },
  {
   "cell_type": "code",
   "execution_count": 25,
   "metadata": {},
   "outputs": [
    {
     "name": "stdout",
     "output_type": "stream",
     "text": [
      "differ\n"
     ]
    }
   ],
   "source": [
    "if c==d:\n",
    "    print('equal')\n",
    "else:\n",
    "    print('differ')"
   ]
  },
  {
   "cell_type": "code",
   "execution_count": 26,
   "metadata": {},
   "outputs": [
    {
     "name": "stdout",
     "output_type": "stream",
     "text": [
      "equal\n"
     ]
    }
   ],
   "source": [
    "if c[0]==d[0] and c[1]==d[1] and c[2]==d[2] and c[3]==d[3]:\n",
    "    print('equal')\n",
    "else:\n",
    "    print('differ')"
   ]
  },
  {
   "cell_type": "markdown",
   "metadata": {},
   "source": [
    "So while they are DIFFERENT objects, their content is IDENTICAL.  So what makes them different?"
   ]
  },
  {
   "cell_type": "code",
   "execution_count": 27,
   "metadata": {},
   "outputs": [
    {
     "data": {
      "text/plain": [
       "[1, 2, 3, -1]"
      ]
     },
     "execution_count": 27,
     "metadata": {},
     "output_type": "execute_result"
    }
   ],
   "source": [
    "c[3]=-1\n",
    "c"
   ]
  },
  {
   "cell_type": "code",
   "execution_count": 28,
   "metadata": {},
   "outputs": [
    {
     "ename": "TypeError",
     "evalue": "'tuple' object does not support item assignment",
     "output_type": "error",
     "traceback": [
      "\u001b[0;31m---------------------------------------------------------------------------\u001b[0m",
      "\u001b[0;31mTypeError\u001b[0m                                 Traceback (most recent call last)",
      "\u001b[0;32m<ipython-input-28-eeed19604812>\u001b[0m in \u001b[0;36m<module>\u001b[0;34m\u001b[0m\n\u001b[0;32m----> 1\u001b[0;31m \u001b[0md\u001b[0m\u001b[0;34m[\u001b[0m\u001b[0;36m3\u001b[0m\u001b[0;34m]\u001b[0m\u001b[0;34m=\u001b[0m\u001b[0;34m-\u001b[0m\u001b[0;36m1\u001b[0m\u001b[0;34m\u001b[0m\u001b[0;34m\u001b[0m\u001b[0m\n\u001b[0m",
      "\u001b[0;31mTypeError\u001b[0m: 'tuple' object does not support item assignment"
     ]
    }
   ],
   "source": [
    "d[3]=-1"
   ]
  },
  {
   "cell_type": "markdown",
   "metadata": {},
   "source": [
    "The reason for this error os the difference: lists are mutable, i.e., modifyable, while tuples are not!  Tuples are a great means of protecting data handed to a function by providing value but not access to (accidentally) modify that data."
   ]
  },
  {
   "cell_type": "markdown",
   "metadata": {},
   "source": [
    "## Loops"
   ]
  },
  {
   "cell_type": "markdown",
   "metadata": {},
   "source": [
    "### looping through all data"
   ]
  },
  {
   "cell_type": "markdown",
   "metadata": {},
   "source": [
    "Python loops through items in a list (or tuple)!  This is quite different from MATLAB or even C++, so be careful"
   ]
  },
  {
   "cell_type": "code",
   "execution_count": 29,
   "metadata": {},
   "outputs": [
    {
     "name": "stdout",
     "output_type": "stream",
     "text": [
      "1\n",
      "2\n",
      "3\n",
      "-1\n"
     ]
    }
   ],
   "source": [
    "for x in c:\n",
    "    print(x)"
   ]
  },
  {
   "cell_type": "code",
   "execution_count": 30,
   "metadata": {},
   "outputs": [
    {
     "name": "stdout",
     "output_type": "stream",
     "text": [
      "1\n",
      "2\n",
      "3\n",
      "4\n"
     ]
    }
   ],
   "source": [
    "for x in d:\n",
    "    print(x)"
   ]
  },
  {
   "cell_type": "markdown",
   "metadata": {},
   "source": [
    "An interesting list type is a string: python views strings as lists of characters:"
   ]
  },
  {
   "cell_type": "code",
   "execution_count": 31,
   "metadata": {},
   "outputs": [
    {
     "name": "stdout",
     "output_type": "stream",
     "text": [
      "Hello, World! \n",
      "\n",
      "H\n",
      "e\n",
      "l\n",
      "l\n",
      "o\n",
      ",\n",
      " \n",
      "W\n",
      "o\n",
      "r\n",
      "l\n",
      "d\n",
      "!\n"
     ]
    }
   ],
   "source": [
    "print(s,'\\n')\n",
    "for ch in s:\n",
    "    print(ch)"
   ]
  },
  {
   "cell_type": "code",
   "execution_count": 32,
   "metadata": {},
   "outputs": [
    {
     "name": "stdout",
     "output_type": "stream",
     "text": [
      "key: 'area' points to value: '1.2'\n",
      "key: 'moment_of_inertia' points to value: '3.45'\n",
      "key: 'c_top' points to value: '3.2'\n",
      "key: 'c_bottom' points to value: '4.1'\n"
     ]
    }
   ],
   "source": [
    "for k in cross_section.keys():\n",
    "    print(\"key: '{}' points to value: '{}'\".format(k,cross_section[k]))"
   ]
  },
  {
   "cell_type": "markdown",
   "metadata": {},
   "source": [
    "### conditional loops"
   ]
  },
  {
   "cell_type": "markdown",
   "metadata": {},
   "source": [
    "Skipping execution for an entry inside a for loop:"
   ]
  },
  {
   "cell_type": "code",
   "execution_count": 33,
   "metadata": {},
   "outputs": [
    {
     "name": "stdout",
     "output_type": "stream",
     "text": [
      "0\n",
      "1\n",
      "3\n",
      "4\n"
     ]
    }
   ],
   "source": [
    "for i in range(5):\n",
    "    if i==2:\n",
    "        continue\n",
    "    print(i)"
   ]
  },
  {
   "cell_type": "markdown",
   "metadata": {},
   "source": [
    "Terminating a for loop once a certain condition is met:"
   ]
  },
  {
   "cell_type": "code",
   "execution_count": 34,
   "metadata": {},
   "outputs": [
    {
     "name": "stdout",
     "output_type": "stream",
     "text": [
      "0\n",
      "1\n",
      "2\n",
      "3\n"
     ]
    }
   ],
   "source": [
    "for i in range(5):\n",
    "    if i==4:\n",
    "        break\n",
    "    print(i)"
   ]
  },
  {
   "cell_type": "markdown",
   "metadata": {},
   "source": [
    "Did you notice that range(5) created the sequence [0,1,2,3,4] ? It created the indices for 5 array entries: 0 to 4, just as we need in python or C/C++ arrays."
   ]
  },
  {
   "cell_type": "markdown",
   "metadata": {},
   "source": [
    "Another conditional loop is the **while loop**.  Let's demonstrate it by implementing Newton's algorithm to iteratively find the root of a nonlinear function.\n",
    "\n",
    "**Note**: this is a quick and dirty implementation without error checking!"
   ]
  },
  {
   "cell_type": "code",
   "execution_count": 35,
   "metadata": {},
   "outputs": [
    {
     "name": "stdout",
     "output_type": "stream",
     "text": [
      "**   1.0000000000000000 has error 2.000000e+00\n",
      "**   2.0000000000000000 has error 1.000000e+00\n",
      "**   1.7500000000000000 has error 6.250000e-02\n",
      "**   1.7321428571428572 has error 3.188776e-04\n",
      "**   1.7320508100147276 has error 8.472674e-09\n",
      "**   1.7320508075688772 has error 4.440892e-16\n",
      "1.7320508075688772\n",
      "**  -1.0000000000000000 has error 2.000000e+00\n",
      "**  -2.0000000000000000 has error 1.000000e+00\n",
      "**  -1.7500000000000000 has error 6.250000e-02\n",
      "**  -1.7321428571428572 has error 3.188776e-04\n",
      "**  -1.7320508100147276 has error 8.472674e-09\n",
      "**  -1.7320508075688772 has error 4.440892e-16\n",
      "-1.7320508075688772\n"
     ]
    }
   ],
   "source": [
    "# defining the function\n",
    "def F(x):\n",
    "    value = x*x - 3.\n",
    "    derivative = 2*x\n",
    "    return (value, derivative)\n",
    "\n",
    "# defining Newton's algorithm as a function\n",
    "def Newton(function, x0):\n",
    "    x = x0\n",
    "    (f, df) = function(x)\n",
    "    print(\"** {:20.16f} has error {:12.6e}\".format(x, abs(f)))\n",
    "    \n",
    "    while abs(f)>1.0e-12:\n",
    "        x -= f/df\n",
    "        (f, df) = function(x)\n",
    "        print(\"** {:20.16f} has error {:12.6e}\".format(x, abs(f)))\n",
    "        \n",
    "    return x\n",
    "        \n",
    "# now run a test\n",
    "print(Newton(F,1.))\n",
    "print(Newton(F,-1.))\n"
   ]
  },
  {
   "cell_type": "markdown",
   "metadata": {},
   "source": [
    "A **while** loop is an easy way to create an infinite loop.  It is recommended to build an emergency exit, e.g. by limiting the number of iterations in the above example:"
   ]
  },
  {
   "cell_type": "code",
   "execution_count": 36,
   "metadata": {},
   "outputs": [
    {
     "name": "stdout",
     "output_type": "stream",
     "text": [
      "**   1.0000000000000000 has error 2.000000e+00\n",
      "**   2.0000000000000000 has error 1.000000e+00\n",
      "**   1.7500000000000000 has error 6.250000e-02\n",
      "**   1.7321428571428572 has error 3.188776e-04\n",
      "**   1.7320508100147276 has error 8.472674e-09\n",
      "**   1.7320508075688772 has error 4.440892e-16\n",
      "1.7320508075688772\n",
      "**  -1.0000000000000000 has error 2.000000e+00\n",
      "**  -2.0000000000000000 has error 1.000000e+00\n",
      "**  -1.7500000000000000 has error 6.250000e-02\n",
      "**  -1.7321428571428572 has error 3.188776e-04\n",
      "**  -1.7320508100147276 has error 8.472674e-09\n",
      "**  -1.7320508075688772 has error 4.440892e-16\n",
      "-1.7320508075688772\n",
      "**   0.0100000000000000 has error 2.999900e+00\n",
      "** 150.0049999999999670 has error 2.249850e+04\n",
      "**  75.0124996666777548 has error 5.623875e+03\n",
      "**  37.5262465006498616 has error 1.405219e+03\n",
      "**  18.8030952736386396 has error 3.505564e+02\n",
      "**   9.4813217366773870 has error 8.689546e+01\n",
      "**   4.8988666588032679 has error 2.099889e+01\n",
      "**   2.7556265990846325 has error 4.593478e+00\n"
     ]
    },
    {
     "ename": "RuntimeError",
     "evalue": "failure to converge",
     "output_type": "error",
     "traceback": [
      "\u001b[0;31m---------------------------------------------------------------------------\u001b[0m",
      "\u001b[0;31mRuntimeError\u001b[0m                              Traceback (most recent call last)",
      "\u001b[0;32m<ipython-input-36-e498b54dee94>\u001b[0m in \u001b[0;36m<module>\u001b[0;34m\u001b[0m\n\u001b[1;32m     23\u001b[0m \u001b[0mprint\u001b[0m\u001b[0;34m(\u001b[0m\u001b[0mNewton\u001b[0m\u001b[0;34m(\u001b[0m\u001b[0mF\u001b[0m\u001b[0;34m,\u001b[0m\u001b[0;36m1.\u001b[0m\u001b[0;34m)\u001b[0m\u001b[0;34m)\u001b[0m\u001b[0;34m\u001b[0m\u001b[0;34m\u001b[0m\u001b[0m\n\u001b[1;32m     24\u001b[0m \u001b[0mprint\u001b[0m\u001b[0;34m(\u001b[0m\u001b[0mNewton\u001b[0m\u001b[0;34m(\u001b[0m\u001b[0mF\u001b[0m\u001b[0;34m,\u001b[0m\u001b[0;34m-\u001b[0m\u001b[0;36m1.\u001b[0m\u001b[0;34m)\u001b[0m\u001b[0;34m)\u001b[0m\u001b[0;34m\u001b[0m\u001b[0;34m\u001b[0m\u001b[0m\n\u001b[0;32m---> 25\u001b[0;31m \u001b[0mprint\u001b[0m\u001b[0;34m(\u001b[0m\u001b[0mNewton\u001b[0m\u001b[0;34m(\u001b[0m\u001b[0mF\u001b[0m\u001b[0;34m,\u001b[0m\u001b[0;36m0.01\u001b[0m\u001b[0;34m)\u001b[0m\u001b[0;34m)\u001b[0m\u001b[0;34m\u001b[0m\u001b[0;34m\u001b[0m\u001b[0m\n\u001b[0m",
      "\u001b[0;32m<ipython-input-36-e498b54dee94>\u001b[0m in \u001b[0;36mNewton\u001b[0;34m(function, x0)\u001b[0m\n\u001b[1;32m     16\u001b[0m         \u001b[0mcnt\u001b[0m \u001b[0;34m+=\u001b[0m \u001b[0;36m1\u001b[0m   \u001b[0;31m# python does not have the ++cnt operation :(\u001b[0m\u001b[0;34m\u001b[0m\u001b[0;34m\u001b[0m\u001b[0m\n\u001b[1;32m     17\u001b[0m         \u001b[0;32mif\u001b[0m \u001b[0mcnt\u001b[0m\u001b[0;34m>\u001b[0m\u001b[0;36m6\u001b[0m\u001b[0;34m:\u001b[0m\u001b[0;34m\u001b[0m\u001b[0;34m\u001b[0m\u001b[0m\n\u001b[0;32m---> 18\u001b[0;31m             \u001b[0;32mraise\u001b[0m \u001b[0mRuntimeError\u001b[0m\u001b[0;34m(\u001b[0m\u001b[0;34m'failure to converge'\u001b[0m\u001b[0;34m)\u001b[0m\u001b[0;34m\u001b[0m\u001b[0;34m\u001b[0m\u001b[0m\n\u001b[0m\u001b[1;32m     19\u001b[0m \u001b[0;34m\u001b[0m\u001b[0m\n\u001b[1;32m     20\u001b[0m     \u001b[0;32mreturn\u001b[0m \u001b[0mx\u001b[0m\u001b[0;34m\u001b[0m\u001b[0;34m\u001b[0m\u001b[0m\n",
      "\u001b[0;31mRuntimeError\u001b[0m: failure to converge"
     ]
    }
   ],
   "source": [
    "# defining Newton's algorithm as a function\n",
    "def Newton(function, x0):\n",
    "    x = x0\n",
    "    (f, df) = function(x)\n",
    "    print(\"** {:20.16f} has error {:12.6e}\".format(x, abs(f)))\n",
    "    \n",
    "    # adding the emergency counter\n",
    "    cnt = 0\n",
    "    \n",
    "    while abs(f)>1.0e-12:\n",
    "        x -= f/df\n",
    "        (f, df) = function(x)\n",
    "        print(\"** {:20.16f} has error {:12.6e}\".format(x, abs(f)))\n",
    "        \n",
    "        # incrementing and checking the emergency counter\n",
    "        cnt += 1   # python does not have the ++cnt operation :(\n",
    "        if cnt>6:\n",
    "            raise RuntimeError('failure to converge')\n",
    "        \n",
    "    return x\n",
    "        \n",
    "# now run a test\n",
    "print(Newton(F,1.))\n",
    "print(Newton(F,-1.))\n",
    "print(Newton(F,0.01))"
   ]
  },
  {
   "cell_type": "markdown",
   "metadata": {},
   "source": [
    "This example demonstrates pythons exception handling mechanism.  Every type of error **raises** an exception. The exception will terminate the program by informing the user WHAT went wrong and WHERE this exception occured.  Common exceptions are DivisionByZero or EOFError, among many others.  You may raise your own exception simply by calling **raise** with or without a specific exception type."
   ]
  },
  {
   "cell_type": "markdown",
   "metadata": {},
   "source": [
    "# Matrix Data Types"
   ]
  },
  {
   "cell_type": "markdown",
   "metadata": {},
   "source": [
    "While tuples and lists in python may look like vectors in MATLAB, they behave as sets and **not as vectors**!  Let that be illustrated by what may look at first like a vector operation (addition):"
   ]
  },
  {
   "cell_type": "code",
   "execution_count": 37,
   "metadata": {},
   "outputs": [],
   "source": [
    "a=[1,2,3]\n",
    "b=[4,5,6]"
   ]
  },
  {
   "cell_type": "code",
   "execution_count": 38,
   "metadata": {},
   "outputs": [
    {
     "data": {
      "text/plain": [
       "[1, 2, 3, 4, 5, 6]"
      ]
     },
     "execution_count": 38,
     "metadata": {},
     "output_type": "execute_result"
    }
   ],
   "source": [
    "a + b"
   ]
  },
  {
   "cell_type": "code",
   "execution_count": 39,
   "metadata": {},
   "outputs": [
    {
     "data": {
      "text/plain": [
       "[4, 5, 6, 1, 2, 3]"
      ]
     },
     "execution_count": 39,
     "metadata": {},
     "output_type": "execute_result"
    }
   ],
   "source": [
    "b + a"
   ]
  },
  {
   "cell_type": "markdown",
   "metadata": {},
   "source": [
    "We see that the \"+\" concattenates lists.  Let's try multiplication:"
   ]
  },
  {
   "cell_type": "code",
   "execution_count": 40,
   "metadata": {},
   "outputs": [
    {
     "ename": "TypeError",
     "evalue": "can't multiply sequence by non-int of type 'list'",
     "output_type": "error",
     "traceback": [
      "\u001b[0;31m---------------------------------------------------------------------------\u001b[0m",
      "\u001b[0;31mTypeError\u001b[0m                                 Traceback (most recent call last)",
      "\u001b[0;32m<ipython-input-40-8ce765dcfa30>\u001b[0m in \u001b[0;36m<module>\u001b[0;34m\u001b[0m\n\u001b[0;32m----> 1\u001b[0;31m \u001b[0ma\u001b[0m\u001b[0;34m*\u001b[0m\u001b[0mb\u001b[0m\u001b[0;34m\u001b[0m\u001b[0;34m\u001b[0m\u001b[0m\n\u001b[0m",
      "\u001b[0;31mTypeError\u001b[0m: can't multiply sequence by non-int of type 'list'"
     ]
    }
   ],
   "source": [
    "a*b"
   ]
  },
  {
   "cell_type": "markdown",
   "metadata": {},
   "source": [
    "We observe that \"*\" is raising a TypeError, i.e., this operation is not even defined for lists.\n",
    "\n",
    "The next section will introcuce the proper data types for vector, matrix, and tensor operations."
   ]
  },
  {
   "cell_type": "markdown",
   "metadata": {},
   "source": [
    "## array and matrix classes using numpy"
   ]
  },
  {
   "cell_type": "markdown",
   "metadata": {},
   "source": [
    "Python provides an extension named **numpy** that provides data types for vector, matrix, and tensor operations.  Moreover, **numpy** provides vectorices algebraic operations and solvers."
   ]
  },
  {
   "cell_type": "markdown",
   "metadata": {},
   "source": [
    "First, we need to load the numpy module"
   ]
  },
  {
   "cell_type": "code",
   "execution_count": 41,
   "metadata": {},
   "outputs": [],
   "source": [
    "import numpy as np"
   ]
  },
  {
   "cell_type": "markdown",
   "metadata": {},
   "source": [
    "The most common data types are array and matrix.  The array constructor takes a list (vector), list of lists (matrix/2nd-order tensor), list of list of lists (3rd-order tensor), while the matrix constructor requires a list of lists (matrix) as the input.  matrix is pretty much the MATLAB equivalent, showing similar limitations.  array is the preferred, more general tensor type."
   ]
  },
  {
   "cell_type": "code",
   "execution_count": 42,
   "metadata": {},
   "outputs": [],
   "source": [
    "A=np.array([[1,2],[3,4]])\n",
    "B=np.matrix([[1,2],[3,4]])"
   ]
  },
  {
   "cell_type": "code",
   "execution_count": 43,
   "metadata": {},
   "outputs": [
    {
     "data": {
      "text/plain": [
       "array([[1, 2],\n",
       "       [3, 4]])"
      ]
     },
     "execution_count": 43,
     "metadata": {},
     "output_type": "execute_result"
    }
   ],
   "source": [
    "A"
   ]
  },
  {
   "cell_type": "code",
   "execution_count": 44,
   "metadata": {},
   "outputs": [
    {
     "name": "stdout",
     "output_type": "stream",
     "text": [
      "[[1 2]\n",
      " [3 4]]\n"
     ]
    }
   ],
   "source": [
    "print(A)"
   ]
  },
  {
   "cell_type": "code",
   "execution_count": 45,
   "metadata": {},
   "outputs": [
    {
     "data": {
      "text/plain": [
       "matrix([[1, 2],\n",
       "        [3, 4]])"
      ]
     },
     "execution_count": 45,
     "metadata": {},
     "output_type": "execute_result"
    }
   ],
   "source": [
    "B"
   ]
  },
  {
   "cell_type": "code",
   "execution_count": 46,
   "metadata": {},
   "outputs": [
    {
     "name": "stdout",
     "output_type": "stream",
     "text": [
      "[[1 2]\n",
      " [3 4]]\n"
     ]
    }
   ],
   "source": [
    "print(B)"
   ]
  },
  {
   "cell_type": "markdown",
   "metadata": {},
   "source": [
    "Keep in mind that while the printed versions of matrix and array objects are identical, their behavior is not!\n",
    "\n",
    "1. **matrix** follows the familiar MATLAB (or octave) syntax with minor differences:\n",
    "    1. B*C is the matrix product\n",
    "    2. transpose of B -> B.T\n",
    "    3. inverse of B -> B.I\n",
    "2. **array** follows tensor algebra notation\n",
    "    1. A*B is element by element multiplication.\n",
    "    2. A@B is the tensor contraction (dot product of adjacent slots; matrix product for 2nd-order tensors)\n",
    "    2. transpose of A -> A.T\n",
    "    3. inverse of A -> A.I\n",
    "    "
   ]
  },
  {
   "cell_type": "code",
   "execution_count": 47,
   "metadata": {},
   "outputs": [
    {
     "data": {
      "text/plain": [
       "array([[1, 2],\n",
       "       [3, 4]])"
      ]
     },
     "execution_count": 47,
     "metadata": {},
     "output_type": "execute_result"
    }
   ],
   "source": [
    "A"
   ]
  },
  {
   "cell_type": "code",
   "execution_count": 48,
   "metadata": {},
   "outputs": [
    {
     "data": {
      "text/plain": [
       "array([[ 1,  4],\n",
       "       [ 9, 16]])"
      ]
     },
     "execution_count": 48,
     "metadata": {},
     "output_type": "execute_result"
    }
   ],
   "source": [
    "A*A"
   ]
  },
  {
   "cell_type": "markdown",
   "metadata": {},
   "source": [
    "A is an array, thus, A*A is the element by element product -> each element is squared\n",
    "\n",
    "We get the matrix product using the @ operator (python 3.5 and later)"
   ]
  },
  {
   "cell_type": "code",
   "execution_count": 49,
   "metadata": {},
   "outputs": [
    {
     "data": {
      "text/plain": [
       "array([[ 7, 10],\n",
       "       [15, 22]])"
      ]
     },
     "execution_count": 49,
     "metadata": {},
     "output_type": "execute_result"
    }
   ],
   "source": [
    "A@A"
   ]
  },
  {
   "cell_type": "code",
   "execution_count": 50,
   "metadata": {},
   "outputs": [
    {
     "data": {
      "text/plain": [
       "matrix([[1, 2],\n",
       "        [3, 4]])"
      ]
     },
     "execution_count": 50,
     "metadata": {},
     "output_type": "execute_result"
    }
   ],
   "source": [
    "B"
   ]
  },
  {
   "cell_type": "code",
   "execution_count": 51,
   "metadata": {},
   "outputs": [
    {
     "data": {
      "text/plain": [
       "matrix([[ 7, 10],\n",
       "        [15, 22]])"
      ]
     },
     "execution_count": 51,
     "metadata": {},
     "output_type": "execute_result"
    }
   ],
   "source": [
    "B*B"
   ]
  },
  {
   "cell_type": "markdown",
   "metadata": {},
   "source": [
    "B is a matrix, thus, B*B is the matrix product.  The result is identical to A@A using the array class"
   ]
  },
  {
   "cell_type": "markdown",
   "metadata": {},
   "source": [
    "### A simple example using basic operations shall illustrate the similarities and differences even further.\n",
    "\n",
    "1. create two vectors $$u=\\left\\{\\begin{array}{c}1\\\\2\\\\3\\end{array}\\right\\} \\qquad\\text{and}\\qquad v=\\left\\{\\begin{array}{c}4\\\\5\\\\6\\end{array}\\right\\}$$"
   ]
  },
  {
   "cell_type": "code",
   "execution_count": 52,
   "metadata": {},
   "outputs": [
    {
     "name": "stdout",
     "output_type": "stream",
     "text": [
      "[1 2 3]\n",
      "[4 5 6]\n"
     ]
    }
   ],
   "source": [
    "u=np.array([1,2,3])\n",
    "v=np.array([4,5,6])\n",
    "print(u)\n",
    "print(v)"
   ]
  },
  {
   "cell_type": "markdown",
   "metadata": {},
   "source": [
    "2. compute the sum: $u + v$"
   ]
  },
  {
   "cell_type": "code",
   "execution_count": 53,
   "metadata": {},
   "outputs": [
    {
     "data": {
      "text/plain": [
       "array([5, 7, 9])"
      ]
     },
     "execution_count": 53,
     "metadata": {},
     "output_type": "execute_result"
    }
   ],
   "source": [
    "u+v"
   ]
  },
  {
   "cell_type": "markdown",
   "metadata": {},
   "source": [
    "3. compute the dot product: $u\\cdot v$\n",
    "(in index notation, this yields a scalar $u_k v_k$)"
   ]
  },
  {
   "cell_type": "code",
   "execution_count": 54,
   "metadata": {},
   "outputs": [
    {
     "data": {
      "text/plain": [
       "32"
      ]
     },
     "execution_count": 54,
     "metadata": {},
     "output_type": "execute_result"
    }
   ],
   "source": [
    "np.dot(u,v)"
   ]
  },
  {
   "cell_type": "code",
   "execution_count": 55,
   "metadata": {},
   "outputs": [
    {
     "data": {
      "text/plain": [
       "32"
      ]
     },
     "execution_count": 55,
     "metadata": {},
     "output_type": "execute_result"
    }
   ],
   "source": [
    "u.dot(v)"
   ]
  },
  {
   "cell_type": "code",
   "execution_count": 56,
   "metadata": {},
   "outputs": [
    {
     "data": {
      "text/plain": [
       "32"
      ]
     },
     "execution_count": 56,
     "metadata": {},
     "output_type": "execute_result"
    }
   ],
   "source": [
    "v.dot(u)"
   ]
  },
  {
   "cell_type": "code",
   "execution_count": 57,
   "metadata": {},
   "outputs": [
    {
     "data": {
      "text/plain": [
       "32"
      ]
     },
     "execution_count": 57,
     "metadata": {},
     "output_type": "execute_result"
    }
   ],
   "source": [
    "u@v"
   ]
  },
  {
   "cell_type": "markdown",
   "metadata": {},
   "source": [
    "All four of the above techniques work.  The first invokes numpy's **dot** function, the second and third invoke the array-class **dot** method (more on that later), and the last utilizes the contraction operator, @."
   ]
  },
  {
   "cell_type": "markdown",
   "metadata": {},
   "source": [
    "4. compute the outer product: $u\\otimes v$\n",
    "(in index notation, this is yields a 2nd-order tensor with components $u_i v_j$)"
   ]
  },
  {
   "cell_type": "code",
   "execution_count": 58,
   "metadata": {},
   "outputs": [
    {
     "data": {
      "text/plain": [
       "array([[ 4,  5,  6],\n",
       "       [ 8, 10, 12],\n",
       "       [12, 15, 18]])"
      ]
     },
     "execution_count": 58,
     "metadata": {},
     "output_type": "execute_result"
    }
   ],
   "source": [
    "np.outer(u,v)"
   ]
  },
  {
   "cell_type": "markdown",
   "metadata": {},
   "source": [
    "Note that $u$ and $v$ are one-dimensional arrays while the outer product combines them into a two-dimensional array, just as proper tensor operations should do."
   ]
  },
  {
   "cell_type": "markdown",
   "metadata": {},
   "source": [
    "Now let's repeat that exercise using the matrix class.  The key difference is that all objects are now matrices and vectors are represented as columns (nx1) or rows (1xn), i.e., two-dimensional objects just as in MATLAB."
   ]
  },
  {
   "cell_type": "markdown",
   "metadata": {},
   "source": [
    "\n",
    "1. create two vectors $$u=\\left\\{\\begin{array}{c}1\\\\2\\\\3\\end{array}\\right\\} \\qquad\\text{and}\\qquad v=\\left\\{\\begin{array}{c}4\\\\5\\\\6\\end{array}\\right\\}$$"
   ]
  },
  {
   "cell_type": "code",
   "execution_count": 59,
   "metadata": {},
   "outputs": [
    {
     "name": "stdout",
     "output_type": "stream",
     "text": [
      "[[1 2 3]]\n",
      "[[4 5 6]]\n"
     ]
    }
   ],
   "source": [
    "# as row vectors ...\n",
    "u=np.matrix([1,2,3])\n",
    "v=np.matrix([4,5,6])\n",
    "print(u)\n",
    "print(v)"
   ]
  },
  {
   "cell_type": "code",
   "execution_count": 60,
   "metadata": {},
   "outputs": [
    {
     "name": "stdout",
     "output_type": "stream",
     "text": [
      "[[1]\n",
      " [2]\n",
      " [3]]\n",
      "[[4]\n",
      " [5]\n",
      " [6]]\n"
     ]
    }
   ],
   "source": [
    "# as column vectors (as in shown in the problem statement) ...\n",
    "u=np.matrix([[1],[2],[3]])\n",
    "v=np.matrix([[4],[5],[6]])\n",
    "print(u)\n",
    "print(v)"
   ]
  },
  {
   "cell_type": "markdown",
   "metadata": {},
   "source": [
    "2. compute the sum: $u + v$"
   ]
  },
  {
   "cell_type": "code",
   "execution_count": 61,
   "metadata": {},
   "outputs": [
    {
     "data": {
      "text/plain": [
       "matrix([[5],\n",
       "        [7],\n",
       "        [9]])"
      ]
     },
     "execution_count": 61,
     "metadata": {},
     "output_type": "execute_result"
    }
   ],
   "source": [
    "u+v"
   ]
  },
  {
   "cell_type": "markdown",
   "metadata": {},
   "source": [
    "3. compute the dot product: $u\\cdot v$\n",
    "(in index notation, this yields a scalar $u_k v_k$)"
   ]
  },
  {
   "cell_type": "code",
   "execution_count": 62,
   "metadata": {},
   "outputs": [
    {
     "data": {
      "text/plain": [
       "matrix([[32]])"
      ]
     },
     "execution_count": 62,
     "metadata": {},
     "output_type": "execute_result"
    }
   ],
   "source": [
    "u.T*v"
   ]
  },
  {
   "cell_type": "markdown",
   "metadata": {},
   "source": [
    "The transposition (.T) vonverts u into a row vector and the matrix product converts the result into a 1x1 matrix.  MATLAB shows such a 1x1 matrix as a scalar, though internally it remains a matrix.  This is quite different from the array class which performed the proper reduction in order.\n",
    "\n",
    "Note: the np.dot product fails since a (3x1) matrix cannot be multiplied with a (3x1) matrix:"
   ]
  },
  {
   "cell_type": "code",
   "execution_count": 63,
   "metadata": {},
   "outputs": [
    {
     "ename": "ValueError",
     "evalue": "shapes (3,1) and (3,1) not aligned: 1 (dim 1) != 3 (dim 0)",
     "output_type": "error",
     "traceback": [
      "\u001b[0;31m---------------------------------------------------------------------------\u001b[0m",
      "\u001b[0;31mValueError\u001b[0m                                Traceback (most recent call last)",
      "\u001b[0;32m<ipython-input-63-146fe9079c1e>\u001b[0m in \u001b[0;36m<module>\u001b[0;34m\u001b[0m\n\u001b[0;32m----> 1\u001b[0;31m \u001b[0mnp\u001b[0m\u001b[0;34m.\u001b[0m\u001b[0mdot\u001b[0m\u001b[0;34m(\u001b[0m\u001b[0mu\u001b[0m\u001b[0;34m,\u001b[0m\u001b[0mv\u001b[0m\u001b[0;34m)\u001b[0m\u001b[0;34m\u001b[0m\u001b[0;34m\u001b[0m\u001b[0m\n\u001b[0m",
      "\u001b[0;32m<__array_function__ internals>\u001b[0m in \u001b[0;36mdot\u001b[0;34m(*args, **kwargs)\u001b[0m\n",
      "\u001b[0;31mValueError\u001b[0m: shapes (3,1) and (3,1) not aligned: 1 (dim 1) != 3 (dim 0)"
     ]
    }
   ],
   "source": [
    "np.dot(u,v)"
   ]
  },
  {
   "cell_type": "markdown",
   "metadata": {},
   "source": [
    "4. compute the outer product: $u\\otimes v$\n",
    "(in index notation, this is yields a 2nd-order tensor with components $u_i v_j$)"
   ]
  },
  {
   "cell_type": "code",
   "execution_count": 64,
   "metadata": {},
   "outputs": [
    {
     "data": {
      "text/plain": [
       "matrix([[ 4,  5,  6],\n",
       "        [ 8, 10, 12],\n",
       "        [12, 15, 18]])"
      ]
     },
     "execution_count": 64,
     "metadata": {},
     "output_type": "execute_result"
    }
   ],
   "source": [
    "u*v.T"
   ]
  },
  {
   "cell_type": "markdown",
   "metadata": {},
   "source": [
    "Comparing this form explains while the outer product is sometimes called \"the wrong dot product\" (mostly by MATLAB users)."
   ]
  },
  {
   "cell_type": "markdown",
   "metadata": {},
   "source": [
    "### Linear algebra in numpy\n",
    "\n",
    "**numpy** comes with a comprehensive package of linear algebra functionality.  Since those extensions take time to load and eat up memory on your computer, we only load functions that we actually use in our code.  Let's illustrate this by solving a system of equations\n",
    "\n",
    "$$\n",
    "\\left[\\begin{array}{cccc}5&3&1&0\\\\3&5&3&1\\\\1&3&5&3\\\\0&1&3&5\\end{array}\\right]\n",
    "\\left\\{\\begin{array}{c}x_0\\\\x_1\\\\x_2\\\\x_3\\end{array}\\right\\}\n",
    "=\n",
    "\\left\\{\\begin{array}{c}2\\\\3\\\\1\\\\-1\\end{array}\\right\\}\n",
    "$$\n"
   ]
  },
  {
   "cell_type": "code",
   "execution_count": 65,
   "metadata": {},
   "outputs": [],
   "source": [
    "from numpy.linalg import solve\n",
    "\n",
    "A=np.array([[5,3,1,0],[3,5,3,1],[1,3,5,3],[0,1,3,5]])\n",
    "y=np.array([2,3,1,-1])"
   ]
  },
  {
   "cell_type": "code",
   "execution_count": 66,
   "metadata": {},
   "outputs": [],
   "source": [
    "x=solve(A,y)"
   ]
  },
  {
   "cell_type": "code",
   "execution_count": 67,
   "metadata": {},
   "outputs": [
    {
     "name": "stdout",
     "output_type": "stream",
     "text": [
      "[ 0.00000000e+00  6.66666667e-01  3.70074342e-17 -3.33333333e-01]\n"
     ]
    }
   ],
   "source": [
    "print(x)"
   ]
  },
  {
   "cell_type": "markdown",
   "metadata": {},
   "source": [
    "We can access linear algebra functions directly without loading them into the local namespace.  We demonstrate this by solving th eeigenvalue problem:\n",
    "$$\n",
    "{\\bf A}\\cdot {\\bf n}=\\lambda {\\bf n}\n",
    "$$\n",
    "where $A$ is the matrix defined in the previous problem."
   ]
  },
  {
   "cell_type": "code",
   "execution_count": 68,
   "metadata": {},
   "outputs": [],
   "source": [
    "(lam,vec)=np.linalg.eig(A)"
   ]
  },
  {
   "cell_type": "markdown",
   "metadata": {},
   "source": [
    "We obtain the eigenvalues as"
   ]
  },
  {
   "cell_type": "code",
   "execution_count": 69,
   "metadata": {},
   "outputs": [
    {
     "name": "stdout",
     "output_type": "stream",
     "text": [
      "[10.77200187  6.          2.22799813  1.        ]\n"
     ]
    }
   ],
   "source": [
    "print(lam)"
   ]
  },
  {
   "cell_type": "markdown",
   "metadata": {},
   "source": [
    "and the respective eigenvectors as"
   ]
  },
  {
   "cell_type": "code",
   "execution_count": 70,
   "metadata": {},
   "outputs": [
    {
     "name": "stdout",
     "output_type": "stream",
     "text": [
      "[[ 0.40276437  0.63245553  0.58118918 -0.31622777]\n",
      " [ 0.58118918  0.31622777 -0.40276437  0.63245553]\n",
      " [ 0.58118918 -0.31622777 -0.40276437 -0.63245553]\n",
      " [ 0.40276437 -0.63245553  0.58118918  0.31622777]]\n"
     ]
    }
   ],
   "source": [
    "print(vec)"
   ]
  },
  {
   "cell_type": "markdown",
   "metadata": {},
   "source": [
    "Let's verify that the result is correct by substituting the obtained $i$-th vectors into the original eigenvalue problem to test\n",
    "$$\n",
    "({\\bf A}\\cdot {\\bf n}_i - \\lambda_i {\\bf n}_i)={\\bf 0}\n",
    "\\quad\\Rightarrow\\quad\n",
    "||({\\bf A}\\cdot {\\bf n}_i - \\lambda_i {\\bf n}_i)||={ 0}\n",
    "$$"
   ]
  },
  {
   "cell_type": "code",
   "execution_count": 71,
   "metadata": {},
   "outputs": [
    {
     "name": "stdout",
     "output_type": "stream",
     "text": [
      "solution 0 yields norm    8.379e-15\n",
      "solution 1 yields norm    3.878e-15\n",
      "solution 2 yields norm    3.625e-15\n",
      "solution 3 yields norm    1.243e-15\n"
     ]
    }
   ],
   "source": [
    "for i in range(4):\n",
    "    w = A@vec[:,i] - lam[i]*vec[:,i]\n",
    "    print(\"solution {} yields norm {:12.3e}\".format(i,np.linalg.norm(w)))\n"
   ]
  },
  {
   "cell_type": "markdown",
   "metadata": {},
   "source": [
    "A quicker way could be verifying that the following expression returns a zero matrix (with numerical zero being a number around $10^{-16}$ or 1.e-16 in computer lingo)"
   ]
  },
  {
   "cell_type": "code",
   "execution_count": 72,
   "metadata": {},
   "outputs": [
    {
     "data": {
      "text/plain": [
       "9.967846079216901e-15"
      ]
     },
     "execution_count": 72,
     "metadata": {},
     "output_type": "execute_result"
    }
   ],
   "source": [
    "np.linalg.norm(vec.T @ A @ vec - np.diag(lam))"
   ]
  },
  {
   "cell_type": "markdown",
   "metadata": {},
   "source": [
    "Please check https://numpy.org/doc/stable/reference/routines.linalg.html for more available functions.\n",
    "\n",
    "An extension to **numpy**'s capabilities is distributed as **scipy** (https://docs.scipy.org/doc/scipy/reference/api.html).  **scipy** provides, among many other functions, tools for\n",
    "* sparse matrices and tools to work on those\n",
    "* spectral analysis (fft)\n",
    "* statistics\n",
    "* optimization\n",
    "* image processing\n",
    "* signal processing"
   ]
  },
  {
   "cell_type": "markdown",
   "metadata": {},
   "source": [
    "# Classes (objects)"
   ]
  },
  {
   "cell_type": "markdown",
   "metadata": {},
   "source": [
    "Python is an object oriented language just as C++.  As such, many similarities exist between the two languages.  However, python is much more relaxed than C++ when it comes to data protection (no protected variables).  Moreover, it does not provide an easy mechanism to overload methods of identical name but different argument type.  I will show later how to emulate that behavior in python."
   ]
  },
  {
   "cell_type": "markdown",
   "metadata": {},
   "source": [
    "## A basic class"
   ]
  },
  {
   "cell_type": "code",
   "execution_count": 73,
   "metadata": {},
   "outputs": [],
   "source": [
    "class Animal(object):\n",
    "    \"\"\"\n",
    "    The Animal class:\n",
    "    \n",
    "    create an object that can remember its name\n",
    "    \"\"\"\n",
    "    \n",
    "    def __init__(self, name='unknown'):\n",
    "        self.name = name\n",
    "    \n",
    "    def __str__(self):\n",
    "        return self.name\n",
    "    \n",
    "    def __repr__(self):\n",
    "        return \"{}({})\".format(self.__class__.__name__,self.name)\n",
    "    \n",
    "    def sound(self):\n",
    "        print(\"{} is silent\".format(self.name))"
   ]
  },
  {
   "cell_type": "code",
   "execution_count": 74,
   "metadata": {},
   "outputs": [],
   "source": [
    "a = Animal(\"Buddy\")\n",
    "b = Animal(\"Kitty\")"
   ]
  },
  {
   "cell_type": "code",
   "execution_count": 75,
   "metadata": {},
   "outputs": [
    {
     "name": "stdout",
     "output_type": "stream",
     "text": [
      "Buddy\n",
      "Kitty\n"
     ]
    }
   ],
   "source": [
    "print(a)\n",
    "print(b)"
   ]
  },
  {
   "cell_type": "code",
   "execution_count": 76,
   "metadata": {},
   "outputs": [
    {
     "name": "stdout",
     "output_type": "stream",
     "text": [
      "Buddy\n"
     ]
    }
   ],
   "source": [
    "print(a.name)"
   ]
  },
  {
   "cell_type": "code",
   "execution_count": 77,
   "metadata": {},
   "outputs": [
    {
     "name": "stdout",
     "output_type": "stream",
     "text": [
      "Kitty\n"
     ]
    }
   ],
   "source": [
    "print(b.name)"
   ]
  },
  {
   "cell_type": "code",
   "execution_count": 78,
   "metadata": {},
   "outputs": [
    {
     "data": {
      "text/plain": [
       "'Animal(Buddy)'"
      ]
     },
     "execution_count": 78,
     "metadata": {},
     "output_type": "execute_result"
    }
   ],
   "source": [
    "repr(a)"
   ]
  },
  {
   "cell_type": "code",
   "execution_count": 79,
   "metadata": {},
   "outputs": [
    {
     "name": "stdout",
     "output_type": "stream",
     "text": [
      "Buddy is silent\n"
     ]
    }
   ],
   "source": [
    "a.sound()"
   ]
  },
  {
   "cell_type": "markdown",
   "metadata": {},
   "source": [
    "## Inheritance"
   ]
  },
  {
   "cell_type": "code",
   "execution_count": 80,
   "metadata": {},
   "outputs": [],
   "source": [
    "class Dog(Animal):\n",
    "    \"\"\"\n",
    "    The Dog class inherits constructor, str, and repr from Animal but overwrites sound()\n",
    "    \"\"\"\n",
    "    \n",
    "    def sound(self):\n",
    "        print(\"{} is barking\".format(self.name))\n",
    "\n",
    "\n",
    "class Cat(Animal):\n",
    "    \"\"\"\n",
    "    The Cat class inherits constructor, str, and repr from Animal but overwrites sound()\n",
    "    \"\"\"\n",
    "    \n",
    "    def sound(self):\n",
    "        print(\"{} is meowing\".format(self.name))\n",
    "        "
   ]
  },
  {
   "cell_type": "code",
   "execution_count": 81,
   "metadata": {},
   "outputs": [],
   "source": [
    "myDog = Dog('Bash')\n",
    "myCat = Cat('Maggie')\n",
    "myOtherDog = Dog('Callie')"
   ]
  },
  {
   "cell_type": "code",
   "execution_count": 82,
   "metadata": {},
   "outputs": [
    {
     "name": "stdout",
     "output_type": "stream",
     "text": [
      "Bash\n",
      "Maggie\n"
     ]
    }
   ],
   "source": [
    "print(myDog)\n",
    "print(myCat)"
   ]
  },
  {
   "cell_type": "code",
   "execution_count": 83,
   "metadata": {},
   "outputs": [
    {
     "name": "stdout",
     "output_type": "stream",
     "text": [
      "Dog(Callie) Cat(Maggie)\n"
     ]
    }
   ],
   "source": [
    "print(repr(myOtherDog),repr(myCat))"
   ]
  },
  {
   "cell_type": "code",
   "execution_count": 84,
   "metadata": {},
   "outputs": [
    {
     "name": "stdout",
     "output_type": "stream",
     "text": [
      "Bash is barking\n",
      "Maggie is meowing\n",
      "Callie is barking\n"
     ]
    }
   ],
   "source": [
    "myDog.sound()\n",
    "myCat.sound()\n",
    "myOtherDog.sound()"
   ]
  },
  {
   "cell_type": "markdown",
   "metadata": {},
   "source": [
    "## Operator overload"
   ]
  },
  {
   "cell_type": "code",
   "execution_count": null,
   "metadata": {},
   "outputs": [],
   "source": []
  },
  {
   "cell_type": "code",
   "execution_count": null,
   "metadata": {},
   "outputs": [],
   "source": []
  },
  {
   "cell_type": "code",
   "execution_count": null,
   "metadata": {},
   "outputs": [],
   "source": []
  },
  {
   "cell_type": "code",
   "execution_count": null,
   "metadata": {},
   "outputs": [],
   "source": []
  },
  {
   "cell_type": "code",
   "execution_count": null,
   "metadata": {},
   "outputs": [],
   "source": []
  },
  {
   "cell_type": "code",
   "execution_count": null,
   "metadata": {},
   "outputs": [],
   "source": []
  },
  {
   "cell_type": "code",
   "execution_count": null,
   "metadata": {},
   "outputs": [],
   "source": []
  },
  {
   "cell_type": "markdown",
   "metadata": {},
   "source": [
    "# Modules"
   ]
  },
  {
   "cell_type": "code",
   "execution_count": null,
   "metadata": {},
   "outputs": [],
   "source": []
  },
  {
   "cell_type": "code",
   "execution_count": null,
   "metadata": {},
   "outputs": [],
   "source": []
  },
  {
   "cell_type": "code",
   "execution_count": null,
   "metadata": {},
   "outputs": [],
   "source": []
  },
  {
   "cell_type": "code",
   "execution_count": null,
   "metadata": {},
   "outputs": [],
   "source": []
  },
  {
   "cell_type": "code",
   "execution_count": null,
   "metadata": {},
   "outputs": [],
   "source": []
  },
  {
   "cell_type": "markdown",
   "metadata": {},
   "source": [
    "# Plotting using matplotlib\n",
    "\n",
    "**matplotlib** (https://matplotlib.org/) provides a simple to use yet powerful 2D and some 3D plotting capability.  It is modelled after MATLAB, so if you are familiar with plotting in MATLAB, you should feel right at home.  We will show some basic examples here but there is much more to see and learn than can be covered here.  The best way of solving your plotting problem is to browse through https://matplotlib.org/gallery/index.html, find a plot that is most similar to what you need, and work off the provided examples."
   ]
  },
  {
   "cell_type": "markdown",
   "metadata": {},
   "source": [
    "First, let's load the pyplot interface and give it a convenient shortcut, plt (we don't want to write matplotlib.pyplot... all the time)"
   ]
  },
  {
   "cell_type": "code",
   "execution_count": 85,
   "metadata": {},
   "outputs": [],
   "source": [
    "import matplotlib.pyplot as plt"
   ]
  },
  {
   "cell_type": "markdown",
   "metadata": {},
   "source": [
    "Next, create a set of point for the primary variable ..."
   ]
  },
  {
   "cell_type": "code",
   "execution_count": 86,
   "metadata": {},
   "outputs": [],
   "source": [
    "x=np.linspace(0,2*np.pi,100)"
   ]
  },
  {
   "cell_type": "markdown",
   "metadata": {},
   "source": [
    "... and plot a sine function.  We are making use of **numpy**'s vectorized functions, which work on entire arrays instead of just a single number."
   ]
  },
  {
   "cell_type": "code",
   "execution_count": 87,
   "metadata": {},
   "outputs": [
    {
     "data": {
      "text/plain": [
       "[<matplotlib.lines.Line2D at 0x11cfb1e10>]"
      ]
     },
     "execution_count": 87,
     "metadata": {},
     "output_type": "execute_result"
    },
    {
     "data": {
      "image/png": "[encoded data removed]",
      "text/plain": [
       "<Figure size 432x288 with 1 Axes>"
      ]
     },
     "metadata": {
      "needs_background": "light"
     },
     "output_type": "display_data"
    }
   ],
   "source": [
    "plt.plot(x,np.sin(x),'-r')"
   ]
  },
  {
   "cell_type": "code",
   "execution_count": 88,
   "metadata": {},
   "outputs": [
    {
     "data": {
      "text/plain": [
       "[<matplotlib.lines.Line2D at 0x11d0cc150>]"
      ]
     },
     "execution_count": 88,
     "metadata": {},
     "output_type": "execute_result"
    },
    {
     "data": {
      "image/png": "[encoded data removed]",
      "text/plain": [
       "<Figure size 432x288 with 1 Axes>"
      ]
     },
     "metadata": {
      "needs_background": "light"
     },
     "output_type": "display_data"
    }
   ],
   "source": [
    "plt.plot(x,np.cos(x),'--b')"
   ]
  },
  {
   "cell_type": "markdown",
   "metadata": {},
   "source": [
    "Note that the new plot overwrote the previous plot.  If you want to plot multiple curves in a single plot, put the respective plot commands into  single cell (this is the default when writing python code ina file instead of a jupyter notebook)."
   ]
  },
  {
   "cell_type": "code",
   "execution_count": 89,
   "metadata": {},
   "outputs": [
    {
     "data": {
      "image/png": "[encoded data removed]",
      "text/plain": [
       "<Figure size 432x288 with 1 Axes>"
      ]
     },
     "metadata": {
      "needs_background": "light"
     },
     "output_type": "display_data"
    }
   ],
   "source": [
    "plt.plot(x,np.sin(x),'-r')\n",
    "plt.plot(x,np.cos(x),'--b')\n",
    "plt.grid(True)"
   ]
  },
  {
   "cell_type": "markdown",
   "metadata": {},
   "source": [
    "You can save your figure using the plt.savefig() command.  Provide a filename with extension pdf, png, jpg, tif, ... and matplotlib will recognize the desired file format from this extension.  There are lots of extra switches for this command, so don't forget to check out [the manual page](https://matplotlib.org/api/_as_gen/matplotlib.pyplot.savefig.html?highlight=savefig#matplotlib.pyplot.savefig)"
   ]
  },
  {
   "cell_type": "code",
   "execution_count": 90,
   "metadata": {},
   "outputs": [
    {
     "data": {
      "image/png": "[encoded data removed]",
      "text/plain": [
       "<Figure size 432x288 with 1 Axes>"
      ]
     },
     "metadata": {
      "needs_background": "light"
     },
     "output_type": "display_data"
    }
   ],
   "source": [
    "plt.plot(x,np.sin(x),'-r')\n",
    "plt.plot(x,np.cos(x),'--b')\n",
    "plt.plot(x,np.tan(x),'-.g')\n",
    "plt.grid(True)\n",
    "plt.ylim(-5,+5)\n",
    "plt.savefig('examplefigure.png')"
   ]
  },
  {
   "cell_type": "markdown",
   "metadata": {},
   "source": [
    "You can check the saved result file here: [files/examplefigure.png](files/examplefigure.png)"
   ]
  }
 ],
 "metadata": {
  "kernelspec": {
   "display_name": "Python 3",
   "language": "python",
   "name": "python3"
  },
  "language_info": {
   "codemirror_mode": {
    "name": "ipython",
    "version": 3
   },
   "file_extension": ".py",
   "mimetype": "text/x-python",
   "name": "python",
   "nbconvert_exporter": "python",
   "pygments_lexer": "ipython3",
   "version": "3.7.4"
  }
 },
 "nbformat": 4,
 "nbformat_minor": 4
}

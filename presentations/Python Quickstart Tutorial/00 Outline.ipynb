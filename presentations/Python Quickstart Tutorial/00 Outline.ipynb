{
 "cells": [
  {
   "cell_type": "markdown",
   "metadata": {},
   "source": [
    "# A Python Quick Start Tutorial - Outline\n",
    "## by Peter Mackenzie-Helnwein\n",
    "University of Washington, Seattle, WA\n",
    "\n",
    "pmackenz@uw.edu          \n",
    "https://www.ce.washington.edu/facultyfinder/peter-mackenzie-helnwein"
   ]
  },
  {
   "cell_type": "markdown",
   "metadata": {},
   "source": [
    "# table of contents\n",
    "\n",
    "1. [Basic Concepts (rel)](./01%20Basic%20Concepts.ipynb)\n",
    "\n",
    "   * First step: Hello, World!\n",
    "   \n",
    "   * Creating Variables - no need for a fancy definition :)\n",
    "   \n",
    "   * Structure by indentation\n",
    "   \n",
    "   * Basic Data Types\n",
    "   \n",
    "   * Loops\n",
    "   \n",
    "   \n",
    "2. [Matrix Data Types](./02%20Matrix%20Data%20Types.ipynb)\n",
    "\n",
    "   * array and matrix classes using numpy\n",
    "   \n",
    "   * Linear algebra in numpy\n",
    "   \n",
    "   \n",
    "3. [Classes (objects)](./03%20Classes%20(objects).ipynb)\n",
    "\n",
    "   * A basic class\n",
    "   \n",
    "   * Inheritance\n",
    "   \n",
    "   * Operator overloading\n",
    "   \n",
    "   \n",
    "4. [Modules](./04%20Modules.ipynb)\n",
    "\n",
    "5. [Plotting using matplotlib](./05%20Plotting%20using%20matplotlib.ipynb)"
   ]
  }
 ],
 "metadata": {
  "kernelspec": {
   "display_name": "Python 3",
   "language": "python",
   "name": "python3"
  },
  "language_info": {
   "codemirror_mode": {
    "name": "ipython",
    "version": 3
   },
   "file_extension": ".py",
   "mimetype": "text/x-python",
   "name": "python",
   "nbconvert_exporter": "python",
   "pygments_lexer": "ipython3",
   "version": "3.7.4"
  }
 },
 "nbformat": 4,
 "nbformat_minor": 4
}
